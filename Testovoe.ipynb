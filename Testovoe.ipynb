{
 "cells": [
  {
   "cell_type": "markdown",
   "id": "9864cdb0-f4b5-457c-bfa0-c687d761826a",
   "metadata": {},
   "source": [
    "# Тестовое задание 1 / 2"
   ]
  },
  {
   "cell_type": "code",
   "execution_count": 18,
   "id": "936c7090-c6d3-4c3e-af9e-3d18bb2e05e3",
   "metadata": {},
   "outputs": [],
   "source": [
    "import pandas as pd\n",
    "import numpy as np"
   ]
  },
  {
   "cell_type": "code",
   "execution_count": 38,
   "id": "e3b1b2c6-bb19-4aef-81b5-117d0555d1c6",
   "metadata": {},
   "outputs": [],
   "source": [
    "df = pd.read_excel('testovoe.xlsx', sheet_name='Датасет для задания 1')"
   ]
  },
  {
   "cell_type": "code",
   "execution_count": 39,
   "id": "4f19fb67-b890-44e1-9de9-77a63a101f1c",
   "metadata": {},
   "outputs": [],
   "source": [
    "df2 = pd.read_excel('testovoe.xlsx', sheet_name='Датасет для задания 2')"
   ]
  },
  {
   "cell_type": "markdown",
   "id": "e1f0bc9d-30e0-4aea-9ae3-57aea27e0103",
   "metadata": {},
   "source": [
    "### 1.1."
   ]
  },
  {
   "cell_type": "code",
   "execution_count": 9,
   "id": "36eb6f0e-f78f-48c1-a5b5-b57165bd41e4",
   "metadata": {},
   "outputs": [
    {
     "name": "stdout",
     "output_type": "stream",
     "text": [
      "861\n"
     ]
    }
   ],
   "source": [
    "res = df['sure_topic'].count()\n",
    "\n",
    "print(res)"
   ]
  },
  {
   "cell_type": "markdown",
   "id": "4708dd65-6392-4a16-8bc6-ea852da92506",
   "metadata": {},
   "source": [
    "### 1.2."
   ]
  },
  {
   "cell_type": "code",
   "execution_count": 11,
   "id": "ae88694f-77d2-48d0-9cf9-18b110b16941",
   "metadata": {},
   "outputs": [
    {
     "name": "stdout",
     "output_type": "stream",
     "text": [
      "149\n"
     ]
    }
   ],
   "source": [
    "filtered_db = df[df['sure_topic'].isnull()]\n",
    "res = filtered_db['most_probable_topic'].count()\n",
    "\n",
    "print(res)"
   ]
  },
  {
   "cell_type": "markdown",
   "id": "6f999166-61f6-4861-9c8f-4c65a6e733d3",
   "metadata": {},
   "source": [
    "### 1.3."
   ]
  },
  {
   "cell_type": "code",
   "execution_count": 27,
   "id": "607e4499-7f80-4c90-b8be-3d0f8607c6b8",
   "metadata": {},
   "outputs": [
    {
     "name": "stdout",
     "output_type": "stream",
     "text": [
      "most_probable_topic\n",
      "Drugoe                                                                    0.162160\n",
      "Jaloby_Tarify_i_komissii                                                  0.067099\n",
      "Kak_rabotaet_Prilojenie                                                   0.169305\n",
      "Organizazionnye_voprosy_Avtomobil_                                        0.210197\n",
      "OtmenyPropuskiOtmena_izza_voditelaPlohaa_svaz_aviarejim                   0.191912\n",
      "OtmenyPropuski_Otmena_izza_passajira_Dostavka_posylkinegabaritnyj_gruz    0.477485\n",
      "OtmenyPropuski_Otmena_izza_passajira_Passajir_ne_vysel                    0.152773\n",
      "Posle_poezdki_Ne_polucil_bonus                                            0.084007\n",
      "Posle_poezdki_Otzyv_o_passajire_Slucajno_povredil_masinu                  0.315084\n",
      "Posle_poezdki_Zabytye_vesi                                                0.839671\n",
      "Problemy_s_poluceniem_zakaza                                              0.088466\n",
      "Urgent                                                                    0.120170\n",
      "Utocnenie                                                                 0.132412\n",
      "Name: custom_model_most_probable_topic_score, dtype: float64\n"
     ]
    }
   ],
   "source": [
    "res = df.groupby('most_probable_topic')['custom_model_most_probable_topic_score'].mean()\n",
    "\n",
    "print(res)"
   ]
  },
  {
   "cell_type": "markdown",
   "id": "5ad8db59-212c-48d3-8d31-7d5e0f80e091",
   "metadata": {},
   "source": [
    "### 1.4 \n",
    "Хочу сказать, что экспериментировал и пробовал разное для выполнения данной задачи. Впервые для себя попробовал numpy, чтобы реализовать range с дробным числом. Также можно было это сделать через range(0,10,1)\n",
    "\n",
    "observed=False поставил потому что ругался Питон.\n"
   ]
  },
  {
   "cell_type": "code",
   "execution_count": 26,
   "id": "229971cf-10fb-4b21-b51b-c978d62923fe",
   "metadata": {
    "scrolled": true
   },
   "outputs": [
    {
     "name": "stdout",
     "output_type": "stream",
     "text": [
      "    entry_count                                most_probable_topic  chat_id  \\\n",
      "0    (0.0, 0.1]                                             Drugoe       27   \n",
      "1    (0.0, 0.1]                           Jaloby_Tarify_i_komissii        1   \n",
      "2    (0.0, 0.1]                            Kak_rabotaet_Prilojenie        0   \n",
      "3    (0.0, 0.1]                 Organizazionnye_voprosy_Avtomobil_        0   \n",
      "4    (0.0, 0.1]  OtmenyPropuskiOtmena_izza_voditelaPlohaa_svaz_...        1   \n",
      "..          ...                                                ...      ...   \n",
      "112  (0.8, 0.9]  Posle_poezdki_Otzyv_o_passajire_Slucajno_povre...        0   \n",
      "113  (0.8, 0.9]                         Posle_poezdki_Zabytye_vesi       76   \n",
      "114  (0.8, 0.9]                       Problemy_s_poluceniem_zakaza        0   \n",
      "115  (0.8, 0.9]                                             Urgent        0   \n",
      "116  (0.8, 0.9]                                          Utocnenie        0   \n",
      "\n",
      "     request  response  sure_topic  custom_model_most_probable_topic_score  \\\n",
      "0         27         0           0                                      27   \n",
      "1          1         0           0                                       1   \n",
      "2          0         0           0                                       0   \n",
      "3          0         0           0                                       0   \n",
      "4          1         0           0                                       1   \n",
      "..       ...       ...         ...                                     ...   \n",
      "112        0         0           0                                       0   \n",
      "113       76         0          76                                      76   \n",
      "114        0         0           0                                       0   \n",
      "115        0         0           0                                       0   \n",
      "116        0         0           0                                       0   \n",
      "\n",
      "     custom_model_most_probable_topic_threshold_based_on_precision  \\\n",
      "0                                                   27               \n",
      "1                                                    1               \n",
      "2                                                    0               \n",
      "3                                                    0               \n",
      "4                                                    1               \n",
      "..                                                 ...               \n",
      "112                                                  0               \n",
      "113                                                 76               \n",
      "114                                                  0               \n",
      "115                                                  0               \n",
      "116                                                  0               \n",
      "\n",
      "     custom_model_most_probable_topic  top3_most_probable_topic  ...  \\\n",
      "0                                  27                        27  ...   \n",
      "1                                   1                         1  ...   \n",
      "2                                   0                         0  ...   \n",
      "3                                   0                         0  ...   \n",
      "4                                   1                         1  ...   \n",
      "..                                ...                       ...  ...   \n",
      "112                                 0                         0  ...   \n",
      "113                                76                        76  ...   \n",
      "114                                 0                         0  ...   \n",
      "115                                 0                         0  ...   \n",
      "116                                 0                         0  ...   \n",
      "\n",
      "     custom_model_top4_most_probable_topic_score  \\\n",
      "0                                             27   \n",
      "1                                              1   \n",
      "2                                              0   \n",
      "3                                              0   \n",
      "4                                              1   \n",
      "..                                           ...   \n",
      "112                                            0   \n",
      "113                                           76   \n",
      "114                                            0   \n",
      "115                                            0   \n",
      "116                                            0   \n",
      "\n",
      "     custom_model_top5_most_probable_topic  \\\n",
      "0                                       27   \n",
      "1                                        1   \n",
      "2                                        0   \n",
      "3                                        0   \n",
      "4                                        1   \n",
      "..                                     ...   \n",
      "112                                      0   \n",
      "113                                     76   \n",
      "114                                      0   \n",
      "115                                      0   \n",
      "116                                      0   \n",
      "\n",
      "     custom_model_top5_most_probable_topic_score  last_sure_topic  \\\n",
      "0                                             27                0   \n",
      "1                                              1                0   \n",
      "2                                              0                0   \n",
      "3                                              0                0   \n",
      "4                                              1                0   \n",
      "..                                           ...              ...   \n",
      "112                                            0                0   \n",
      "113                                           76               76   \n",
      "114                                            0                0   \n",
      "115                                            0                0   \n",
      "116                                            0                0   \n",
      "\n",
      "     sure_topic.1  scenario_titles  last_node_title  last_node_type  \\\n",
      "0               0               27               27              27   \n",
      "1               0                1                1               1   \n",
      "2               0                0                0               0   \n",
      "3               0                0                0               0   \n",
      "4               0                1                1               1   \n",
      "..            ...              ...              ...             ...   \n",
      "112             0                0                0               0   \n",
      "113            76               76               76              76   \n",
      "114             0                0                0               0   \n",
      "115             0                0                0               0   \n",
      "116             0                0                0               0   \n",
      "\n",
      "     scenario_title  scenario_slug  \n",
      "0                27             27  \n",
      "1                 1              1  \n",
      "2                 0              0  \n",
      "3                 0              0  \n",
      "4                 1              1  \n",
      "..              ...            ...  \n",
      "112               0              0  \n",
      "113              76             76  \n",
      "114               0              0  \n",
      "115               0              0  \n",
      "116               0              0  \n",
      "\n",
      "[117 rows x 38 columns]\n"
     ]
    }
   ],
   "source": [
    "df['entry_count'] = pd.cut(df['custom_model_most_probable_topic_score'], bins=np.arange(0, 1, 0.1))\n",
    "\n",
    "res = df.groupby(['entry_count', 'most_probable_topic'], observed=False).count().reset_index()\n",
    "\n",
    "print(res)"
   ]
  },
  {
   "cell_type": "markdown",
   "id": "7a4ebe39-2d84-42ab-be8a-907006ad5e55",
   "metadata": {},
   "source": [
    "### 2.1"
   ]
  },
  {
   "cell_type": "code",
   "execution_count": 34,
   "id": "77173379-6bbf-4ab6-80f4-8306747233c8",
   "metadata": {},
   "outputs": [
    {
     "name": "stdout",
     "output_type": "stream",
     "text": [
      "1000\n"
     ]
    }
   ],
   "source": [
    "res = df2['chat_id'].nunique()\n",
    "\n",
    "print(res)"
   ]
  },
  {
   "cell_type": "markdown",
   "id": "7207aaa9-7241-43c4-9d1a-a909092df3e3",
   "metadata": {},
   "source": [
    "### 2.2"
   ]
  },
  {
   "cell_type": "code",
   "execution_count": 52,
   "id": "eb45a97d-3de6-4425-9424-5ae5c80e534d",
   "metadata": {},
   "outputs": [
    {
     "name": "stdout",
     "output_type": "stream",
     "text": [
      "final_transaction_status\n",
      "clear_success      [aaa2a8fc0509475d834c97d2f64153fd, 3ce7a4a0c69...\n",
      "hold_fail          [9d62d51a10244b6bb21729aa8e711443, b0e34f8a6fc...\n",
      "hold_success       [a95d04d5f74d48ac9f96e3787a7e46df, c2cb59e70b2...\n",
      "no_transactions    [c577dfda076745d39e1c57755bd0157e, 7a32c2a2eda...\n",
      "Name: chat_id, dtype: object\n"
     ]
    }
   ],
   "source": [
    "filtered_db = df2[df2['payment_type'] == 'card']\n",
    "\n",
    "res = filtered_db.groupby('final_transaction_status')['chat_id'].unique()\n",
    "\n",
    "print(res)"
   ]
  },
  {
   "cell_type": "markdown",
   "id": "8c9accce-202d-48e5-bce4-e031e6d2f0c5",
   "metadata": {},
   "source": [
    "##### unique chat_id:\n",
    "- 3ce7a4a0c6924355b97612abf312d31d\n",
    "- b0e34f8a6fc64b5b8683cd314a578289\n",
    "- c2cb59e70b2644b687048e18e733e4e6\n",
    "- 7a32c2a2eda744fa986ab792f47a909d\n"
   ]
  }
 ],
 "metadata": {
  "kernelspec": {
   "display_name": "Python 3 (ipykernel)",
   "language": "python",
   "name": "python3"
  },
  "language_info": {
   "codemirror_mode": {
    "name": "ipython",
    "version": 3
   },
   "file_extension": ".py",
   "mimetype": "text/x-python",
   "name": "python",
   "nbconvert_exporter": "python",
   "pygments_lexer": "ipython3",
   "version": "3.12.3"
  }
 },
 "nbformat": 4,
 "nbformat_minor": 5
}
